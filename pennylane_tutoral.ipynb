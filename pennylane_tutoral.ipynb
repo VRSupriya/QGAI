{
 "cells": [
  {
   "cell_type": "code",
   "execution_count": 1,
   "metadata": {},
   "outputs": [
    {
     "name": "stderr",
     "output_type": "stream",
     "text": [
      "Matplotlib is building the font cache; this may take a moment.\n"
     ]
    }
   ],
   "source": [
    "import pennylane as qml"
   ]
  },
  {
   "cell_type": "code",
   "execution_count": 2,
   "metadata": {},
   "outputs": [],
   "source": [
    "def qfunc():\n",
    "    qml.PauliX(0)\n",
    "    qml.Hadamard(0)\n",
    "    return qml.state()\n"
   ]
  },
  {
   "cell_type": "code",
   "execution_count": 3,
   "metadata": {},
   "outputs": [],
   "source": [
    "dev = qml.device(\"default.qubit\", wires=1)"
   ]
  },
  {
   "cell_type": "code",
   "execution_count": 4,
   "metadata": {},
   "outputs": [],
   "source": [
    "qn=qml.QNode(qfunc, dev)"
   ]
  },
  {
   "cell_type": "code",
   "execution_count": 5,
   "metadata": {},
   "outputs": [
    {
     "data": {
      "text/plain": [
       "'0: ──X──H─┤  State'"
      ]
     },
     "execution_count": 5,
     "metadata": {},
     "output_type": "execute_result"
    }
   ],
   "source": [
    "qml.draw(qn)()"
   ]
  },
  {
   "cell_type": "code",
   "execution_count": 7,
   "metadata": {},
   "outputs": [
    {
     "data": {
      "image/png": "[encoded data removed]",
      "text/plain": [
       "<Figure size 500x200 with 1 Axes>"
      ]
     },
     "metadata": {},
     "output_type": "display_data"
    }
   ],
   "source": [
    "fig,ax=qml.draw_mpl(qn)()"
   ]
  },
  {
   "cell_type": "code",
   "execution_count": 8,
   "metadata": {},
   "outputs": [
    {
     "data": {
      "text/plain": [
       "tensor([ 0.70710678+0.j, -0.70710678+0.j], requires_grad=True)"
      ]
     },
     "execution_count": 8,
     "metadata": {},
     "output_type": "execute_result"
    }
   ],
   "source": [
    "sv = qn()\n",
    "sv"
   ]
  },
  {
   "cell_type": "code",
   "execution_count": 14,
   "metadata": {},
   "outputs": [],
   "source": [
    "@qml.qnode(dev)\n",
    "def qfunc():\n",
    "    qml.PauliX(0)\n",
    "    qml.Hadamard(0)\n",
    "    return qml.state()\n"
   ]
  },
  {
   "cell_type": "code",
   "execution_count": 15,
   "metadata": {},
   "outputs": [
    {
     "data": {
      "text/plain": [
       "tensor([ 0.70710678+0.j, -0.70710678+0.j], requires_grad=True)"
      ]
     },
     "execution_count": 15,
     "metadata": {},
     "output_type": "execute_result"
    }
   ],
   "source": [
    "qfunc()"
   ]
  },
  {
   "cell_type": "code",
   "execution_count": 16,
   "metadata": {},
   "outputs": [
    {
     "data": {
      "text/plain": [
       "tensor([0.5, 0.5], requires_grad=True)"
      ]
     },
     "execution_count": 16,
     "metadata": {},
     "output_type": "execute_result"
    }
   ],
   "source": [
    "@qml.qnode(dev)\n",
    "def qfunc():\n",
    "    qml.PauliX(0)\n",
    "    qml.Hadamard(0)\n",
    "    return qml.probs()\n",
    "\n",
    "qfunc()\n"
   ]
  },
  {
   "cell_type": "code",
   "execution_count": 18,
   "metadata": {},
   "outputs": [
    {
     "data": {
      "text/plain": [
       "array([[ 0.70710678,  0.70710678],\n",
       "       [-0.70710678,  0.70710678]])"
      ]
     },
     "execution_count": 18,
     "metadata": {},
     "output_type": "execute_result"
    }
   ],
   "source": [
    "qml.matrix(qfunc)()"
   ]
  },
  {
   "cell_type": "code",
   "execution_count": 20,
   "metadata": {},
   "outputs": [
    {
     "data": {
      "text/plain": [
       "tensor([ 0.70710678+0.j, -0.70710678+0.j], requires_grad=True)"
      ]
     },
     "execution_count": 20,
     "metadata": {},
     "output_type": "execute_result"
    }
   ],
   "source": [
    "def circuit():\n",
    "    qml.PauliX(0)\n",
    "    qml.Hadamard(0)\n",
    "    \n",
    "@qml.qnode(dev)\n",
    "def qn_sv():\n",
    "    circuit()\n",
    "    return qml.state()\n",
    "\n",
    "qn_sv()"
   ]
  },
  {
   "cell_type": "code",
   "execution_count": 23,
   "metadata": {},
   "outputs": [
    {
     "data": {
      "text/plain": [
       "tensor([0.5, 0.5], requires_grad=True)"
      ]
     },
     "execution_count": 23,
     "metadata": {},
     "output_type": "execute_result"
    }
   ],
   "source": [
    "@qml.qnode(dev)\n",
    "def qn_prob():\n",
    "    circuit()\n",
    "    return qml.probs()\n",
    "\n",
    "qn_prob()"
   ]
  },
  {
   "cell_type": "code",
   "execution_count": 29,
   "metadata": {},
   "outputs": [
    {
     "data": {
      "text/plain": [
       "array([[ 0.70710678,  0.70710678],\n",
       "       [-0.70710678,  0.70710678]])"
      ]
     },
     "execution_count": 29,
     "metadata": {},
     "output_type": "execute_result"
    }
   ],
   "source": [
    "qml.matrix(circuit, wire_order=[0])()\n"
   ]
  },
  {
   "cell_type": "code",
   "execution_count": 30,
   "metadata": {},
   "outputs": [],
   "source": [
    "dev2 = qml.device(\"default.qubit\", wires=1,shots=1000)"
   ]
  },
  {
   "cell_type": "code",
   "execution_count": 32,
   "metadata": {},
   "outputs": [],
   "source": [
    "@qml.qnode(dev2)\n",
    "def qn_sm():\n",
    "    circuit()\n",
    "    return qml.sample(wires=0)\n",
    "\n",
    "samples =qn_sm()"
   ]
  },
  {
   "cell_type": "code",
   "execution_count": 35,
   "metadata": {},
   "outputs": [
    {
     "data": {
      "text/plain": [
       "0.487"
      ]
     },
     "execution_count": 35,
     "metadata": {},
     "output_type": "execute_result"
    }
   ],
   "source": [
    "import numpy as np\n",
    "np.count_nonzero(samples==0\n",
    "                 )/1000"
   ]
  },
  {
   "cell_type": "code",
   "execution_count": 38,
   "metadata": {},
   "outputs": [
    {
     "data": {
      "text/plain": [
       "tensor([0.524, 0.476], requires_grad=True)"
      ]
     },
     "execution_count": 38,
     "metadata": {},
     "output_type": "execute_result"
    }
   ],
   "source": [
    "@qml.qnode(dev2)\n",
    "def qn_prob():\n",
    "    circuit()\n",
    "    return qml.probs()\n",
    "\n",
    "qn_prob()"
   ]
  },
  {
   "cell_type": "code",
   "execution_count": 40,
   "metadata": {},
   "outputs": [
    {
     "data": {
      "text/plain": [
       "tensor([ 1., -1.,  1.,  1.,  1.,  1., -1., -1., -1.,  1.,  1.,  1.,  1.,\n",
       "         1.,  1., -1., -1., -1., -1., -1., -1.,  1.,  1.,  1., -1.,  1.,\n",
       "        -1.,  1.,  1.,  1.,  1.,  1., -1.,  1.,  1.,  1.,  1., -1., -1.,\n",
       "         1., -1.,  1., -1.,  1., -1.,  1., -1.,  1.,  1.,  1.,  1.,  1.,\n",
       "        -1., -1., -1.,  1., -1., -1., -1., -1., -1.,  1.,  1., -1., -1.,\n",
       "        -1., -1., -1.,  1.,  1., -1.,  1., -1., -1.,  1.,  1.,  1.,  1.,\n",
       "        -1., -1., -1., -1.,  1.,  1.,  1.,  1., -1.,  1.,  1.,  1., -1.,\n",
       "        -1.,  1., -1.,  1.,  1., -1., -1., -1., -1., -1., -1.,  1., -1.,\n",
       "        -1.,  1.,  1., -1., -1., -1.,  1., -1., -1., -1., -1.,  1., -1.,\n",
       "        -1., -1.,  1.,  1.,  1., -1.,  1., -1., -1.,  1.,  1., -1., -1.,\n",
       "        -1., -1.,  1.,  1., -1.,  1.,  1., -1.,  1.,  1., -1.,  1., -1.,\n",
       "        -1.,  1., -1.,  1.,  1.,  1., -1.,  1., -1., -1., -1., -1.,  1.,\n",
       "        -1.,  1., -1., -1., -1.,  1., -1.,  1., -1., -1.,  1.,  1., -1.,\n",
       "        -1., -1., -1.,  1., -1., -1.,  1.,  1., -1.,  1., -1.,  1.,  1.,\n",
       "         1., -1.,  1., -1.,  1.,  1.,  1., -1., -1.,  1., -1., -1.,  1.,\n",
       "         1., -1.,  1., -1., -1.,  1.,  1., -1.,  1.,  1., -1., -1., -1.,\n",
       "         1.,  1., -1., -1., -1.,  1.,  1.,  1., -1., -1.,  1.,  1., -1.,\n",
       "         1.,  1., -1., -1.,  1.,  1., -1., -1., -1.,  1., -1.,  1., -1.,\n",
       "         1.,  1.,  1.,  1., -1.,  1.,  1., -1.,  1., -1.,  1.,  1., -1.,\n",
       "        -1.,  1.,  1., -1., -1.,  1.,  1., -1., -1.,  1., -1., -1.,  1.,\n",
       "         1., -1., -1.,  1., -1.,  1., -1., -1.,  1., -1.,  1.,  1.,  1.,\n",
       "        -1.,  1.,  1., -1., -1., -1., -1.,  1., -1.,  1., -1.,  1., -1.,\n",
       "         1., -1.,  1.,  1.,  1.,  1., -1.,  1., -1.,  1.,  1.,  1., -1.,\n",
       "         1.,  1.,  1.,  1., -1., -1.,  1.,  1.,  1., -1., -1.,  1., -1.,\n",
       "         1.,  1., -1.,  1.,  1.,  1., -1.,  1., -1.,  1.,  1., -1.,  1.,\n",
       "        -1., -1., -1.,  1., -1.,  1., -1., -1., -1.,  1., -1., -1., -1.,\n",
       "         1.,  1.,  1.,  1.,  1., -1., -1.,  1.,  1., -1., -1.,  1., -1.,\n",
       "        -1.,  1., -1., -1., -1.,  1., -1.,  1.,  1., -1., -1., -1.,  1.,\n",
       "         1.,  1., -1.,  1.,  1., -1.,  1., -1.,  1.,  1.,  1., -1.,  1.,\n",
       "         1., -1., -1.,  1.,  1., -1.,  1.,  1.,  1., -1.,  1., -1.,  1.,\n",
       "        -1., -1.,  1.,  1., -1., -1., -1.,  1.,  1.,  1., -1., -1.,  1.,\n",
       "        -1., -1.,  1., -1., -1.,  1.,  1.,  1., -1., -1.,  1., -1., -1.,\n",
       "         1., -1., -1., -1., -1., -1., -1., -1., -1.,  1., -1.,  1., -1.,\n",
       "         1., -1.,  1., -1., -1., -1., -1.,  1., -1.,  1., -1., -1.,  1.,\n",
       "        -1.,  1.,  1.,  1., -1.,  1.,  1., -1., -1., -1., -1., -1.,  1.,\n",
       "         1.,  1., -1., -1.,  1.,  1.,  1., -1., -1.,  1., -1., -1.,  1.,\n",
       "        -1., -1.,  1.,  1., -1., -1., -1.,  1., -1.,  1.,  1., -1., -1.,\n",
       "         1.,  1., -1.,  1., -1., -1., -1.,  1.,  1.,  1.,  1.,  1.,  1.,\n",
       "         1., -1., -1.,  1.,  1.,  1., -1., -1., -1., -1., -1., -1., -1.,\n",
       "        -1., -1., -1., -1.,  1., -1.,  1., -1.,  1.,  1., -1., -1., -1.,\n",
       "        -1.,  1., -1., -1.,  1.,  1., -1.,  1., -1., -1., -1.,  1.,  1.,\n",
       "         1., -1., -1.,  1.,  1.,  1., -1.,  1., -1., -1., -1.,  1.,  1.,\n",
       "         1.,  1., -1., -1.,  1., -1., -1.,  1.,  1., -1.,  1.,  1.,  1.,\n",
       "         1., -1., -1., -1.,  1.,  1.,  1.,  1., -1., -1., -1.,  1., -1.,\n",
       "        -1., -1., -1., -1., -1.,  1., -1.,  1.,  1., -1., -1.,  1., -1.,\n",
       "         1., -1.,  1.,  1.,  1., -1., -1.,  1.,  1., -1.,  1.,  1., -1.,\n",
       "        -1.,  1., -1., -1., -1., -1.,  1., -1.,  1.,  1.,  1.,  1., -1.,\n",
       "        -1., -1., -1.,  1.,  1.,  1.,  1.,  1.,  1.,  1., -1., -1.,  1.,\n",
       "         1., -1.,  1., -1., -1.,  1.,  1., -1., -1., -1.,  1., -1.,  1.,\n",
       "        -1.,  1., -1.,  1., -1.,  1.,  1.,  1.,  1.,  1., -1.,  1.,  1.,\n",
       "         1., -1.,  1., -1., -1.,  1.,  1., -1.,  1., -1., -1., -1.,  1.,\n",
       "         1., -1.,  1.,  1.,  1.,  1., -1.,  1., -1., -1.,  1.,  1.,  1.,\n",
       "        -1.,  1.,  1., -1., -1.,  1.,  1.,  1., -1., -1., -1., -1., -1.,\n",
       "        -1.,  1.,  1.,  1.,  1.,  1., -1.,  1., -1., -1., -1.,  1.,  1.,\n",
       "         1., -1., -1.,  1., -1.,  1.,  1., -1.,  1.,  1.,  1.,  1., -1.,\n",
       "         1., -1., -1., -1.,  1., -1., -1.,  1.,  1., -1.,  1.,  1., -1.,\n",
       "         1.,  1.,  1., -1.,  1., -1., -1.,  1., -1., -1., -1., -1.,  1.,\n",
       "        -1., -1., -1., -1.,  1., -1.,  1.,  1.,  1., -1.,  1., -1.,  1.,\n",
       "         1.,  1.,  1., -1.,  1.,  1., -1.,  1.,  1., -1., -1.,  1., -1.,\n",
       "        -1.,  1.,  1., -1., -1.,  1., -1.,  1., -1.,  1., -1.,  1.,  1.,\n",
       "         1.,  1.,  1., -1.,  1.,  1., -1.,  1.,  1., -1., -1., -1., -1.,\n",
       "        -1., -1.,  1.,  1.,  1., -1.,  1.,  1.,  1., -1.,  1.,  1.,  1.,\n",
       "         1.,  1., -1.,  1.,  1.,  1.,  1.,  1., -1.,  1., -1., -1., -1.,\n",
       "        -1.,  1.,  1.,  1., -1.,  1., -1.,  1.,  1., -1.,  1.,  1., -1.,\n",
       "         1., -1.,  1., -1., -1.,  1., -1.,  1., -1., -1.,  1., -1.,  1.,\n",
       "        -1.,  1., -1.,  1.,  1., -1., -1., -1.,  1., -1., -1., -1.,  1.,\n",
       "         1.,  1.,  1., -1., -1.,  1.,  1., -1., -1., -1., -1.,  1., -1.,\n",
       "        -1.,  1.,  1.,  1.,  1., -1.,  1.,  1., -1., -1., -1., -1.,  1.,\n",
       "        -1., -1.,  1.,  1., -1.,  1.,  1., -1., -1., -1.,  1.,  1.,  1.,\n",
       "         1., -1.,  1., -1.,  1., -1., -1.,  1., -1., -1., -1., -1., -1.,\n",
       "        -1., -1., -1., -1.,  1., -1., -1., -1.,  1.,  1.,  1., -1.,  1.,\n",
       "         1., -1.,  1.,  1., -1.,  1.,  1.,  1.,  1.,  1.,  1.,  1., -1.,\n",
       "         1.,  1., -1.,  1.,  1.,  1.,  1., -1., -1.,  1., -1.,  1., -1.,\n",
       "        -1., -1., -1., -1., -1., -1.,  1., -1.,  1., -1.,  1., -1., -1.,\n",
       "         1.,  1., -1., -1., -1.,  1.,  1.,  1.,  1., -1.,  1., -1., -1.,\n",
       "        -1.,  1., -1., -1., -1.,  1.,  1., -1.,  1., -1., -1.,  1.,  1.,\n",
       "        -1., -1.,  1., -1.,  1., -1., -1., -1., -1., -1.,  1.,  1.], requires_grad=True)"
      ]
     },
     "execution_count": 40,
     "metadata": {},
     "output_type": "execute_result"
    }
   ],
   "source": [
    "@qml.qnode(dev2)\n",
    "def qn_sm():\n",
    "    circuit()\n",
    "    return qml.sample(qml.PauliZ(wires=0))\n",
    "\n",
    "samples =qn_sm()\n",
    "samples"
   ]
  },
  {
   "cell_type": "code",
   "execution_count": 41,
   "metadata": {},
   "outputs": [
    {
     "data": {
      "text/plain": [
       "tensor([-1., -1., -1., -1., -1., -1., -1., -1., -1., -1., -1., -1., -1.,\n",
       "        -1., -1., -1., -1., -1., -1., -1., -1., -1., -1., -1., -1., -1.,\n",
       "        -1., -1., -1., -1., -1., -1., -1., -1., -1., -1., -1., -1., -1.,\n",
       "        -1., -1., -1., -1., -1., -1., -1., -1., -1., -1., -1., -1., -1.,\n",
       "        -1., -1., -1., -1., -1., -1., -1., -1., -1., -1., -1., -1., -1.,\n",
       "        -1., -1., -1., -1., -1., -1., -1., -1., -1., -1., -1., -1., -1.,\n",
       "        -1., -1., -1., -1., -1., -1., -1., -1., -1., -1., -1., -1., -1.,\n",
       "        -1., -1., -1., -1., -1., -1., -1., -1., -1., -1., -1., -1., -1.,\n",
       "        -1., -1., -1., -1., -1., -1., -1., -1., -1., -1., -1., -1., -1.,\n",
       "        -1., -1., -1., -1., -1., -1., -1., -1., -1., -1., -1., -1., -1.,\n",
       "        -1., -1., -1., -1., -1., -1., -1., -1., -1., -1., -1., -1., -1.,\n",
       "        -1., -1., -1., -1., -1., -1., -1., -1., -1., -1., -1., -1., -1.,\n",
       "        -1., -1., -1., -1., -1., -1., -1., -1., -1., -1., -1., -1., -1.,\n",
       "        -1., -1., -1., -1., -1., -1., -1., -1., -1., -1., -1., -1., -1.,\n",
       "        -1., -1., -1., -1., -1., -1., -1., -1., -1., -1., -1., -1., -1.,\n",
       "        -1., -1., -1., -1., -1., -1., -1., -1., -1., -1., -1., -1., -1.,\n",
       "        -1., -1., -1., -1., -1., -1., -1., -1., -1., -1., -1., -1., -1.,\n",
       "        -1., -1., -1., -1., -1., -1., -1., -1., -1., -1., -1., -1., -1.,\n",
       "        -1., -1., -1., -1., -1., -1., -1., -1., -1., -1., -1., -1., -1.,\n",
       "        -1., -1., -1., -1., -1., -1., -1., -1., -1., -1., -1., -1., -1.,\n",
       "        -1., -1., -1., -1., -1., -1., -1., -1., -1., -1., -1., -1., -1.,\n",
       "        -1., -1., -1., -1., -1., -1., -1., -1., -1., -1., -1., -1., -1.,\n",
       "        -1., -1., -1., -1., -1., -1., -1., -1., -1., -1., -1., -1., -1.,\n",
       "        -1., -1., -1., -1., -1., -1., -1., -1., -1., -1., -1., -1., -1.,\n",
       "        -1., -1., -1., -1., -1., -1., -1., -1., -1., -1., -1., -1., -1.,\n",
       "        -1., -1., -1., -1., -1., -1., -1., -1., -1., -1., -1., -1., -1.,\n",
       "        -1., -1., -1., -1., -1., -1., -1., -1., -1., -1., -1., -1., -1.,\n",
       "        -1., -1., -1., -1., -1., -1., -1., -1., -1., -1., -1., -1., -1.,\n",
       "        -1., -1., -1., -1., -1., -1., -1., -1., -1., -1., -1., -1., -1.,\n",
       "        -1., -1., -1., -1., -1., -1., -1., -1., -1., -1., -1., -1., -1.,\n",
       "        -1., -1., -1., -1., -1., -1., -1., -1., -1., -1., -1., -1., -1.,\n",
       "        -1., -1., -1., -1., -1., -1., -1., -1., -1., -1., -1., -1., -1.,\n",
       "        -1., -1., -1., -1., -1., -1., -1., -1., -1., -1., -1., -1., -1.,\n",
       "        -1., -1., -1., -1., -1., -1., -1., -1., -1., -1., -1., -1., -1.,\n",
       "        -1., -1., -1., -1., -1., -1., -1., -1., -1., -1., -1., -1., -1.,\n",
       "        -1., -1., -1., -1., -1., -1., -1., -1., -1., -1., -1., -1., -1.,\n",
       "        -1., -1., -1., -1., -1., -1., -1., -1., -1., -1., -1., -1., -1.,\n",
       "        -1., -1., -1., -1., -1., -1., -1., -1., -1., -1., -1., -1., -1.,\n",
       "        -1., -1., -1., -1., -1., -1., -1., -1., -1., -1., -1., -1., -1.,\n",
       "        -1., -1., -1., -1., -1., -1., -1., -1., -1., -1., -1., -1., -1.,\n",
       "        -1., -1., -1., -1., -1., -1., -1., -1., -1., -1., -1., -1., -1.,\n",
       "        -1., -1., -1., -1., -1., -1., -1., -1., -1., -1., -1., -1., -1.,\n",
       "        -1., -1., -1., -1., -1., -1., -1., -1., -1., -1., -1., -1., -1.,\n",
       "        -1., -1., -1., -1., -1., -1., -1., -1., -1., -1., -1., -1., -1.,\n",
       "        -1., -1., -1., -1., -1., -1., -1., -1., -1., -1., -1., -1., -1.,\n",
       "        -1., -1., -1., -1., -1., -1., -1., -1., -1., -1., -1., -1., -1.,\n",
       "        -1., -1., -1., -1., -1., -1., -1., -1., -1., -1., -1., -1., -1.,\n",
       "        -1., -1., -1., -1., -1., -1., -1., -1., -1., -1., -1., -1., -1.,\n",
       "        -1., -1., -1., -1., -1., -1., -1., -1., -1., -1., -1., -1., -1.,\n",
       "        -1., -1., -1., -1., -1., -1., -1., -1., -1., -1., -1., -1., -1.,\n",
       "        -1., -1., -1., -1., -1., -1., -1., -1., -1., -1., -1., -1., -1.,\n",
       "        -1., -1., -1., -1., -1., -1., -1., -1., -1., -1., -1., -1., -1.,\n",
       "        -1., -1., -1., -1., -1., -1., -1., -1., -1., -1., -1., -1., -1.,\n",
       "        -1., -1., -1., -1., -1., -1., -1., -1., -1., -1., -1., -1., -1.,\n",
       "        -1., -1., -1., -1., -1., -1., -1., -1., -1., -1., -1., -1., -1.,\n",
       "        -1., -1., -1., -1., -1., -1., -1., -1., -1., -1., -1., -1., -1.,\n",
       "        -1., -1., -1., -1., -1., -1., -1., -1., -1., -1., -1., -1., -1.,\n",
       "        -1., -1., -1., -1., -1., -1., -1., -1., -1., -1., -1., -1., -1.,\n",
       "        -1., -1., -1., -1., -1., -1., -1., -1., -1., -1., -1., -1., -1.,\n",
       "        -1., -1., -1., -1., -1., -1., -1., -1., -1., -1., -1., -1., -1.,\n",
       "        -1., -1., -1., -1., -1., -1., -1., -1., -1., -1., -1., -1., -1.,\n",
       "        -1., -1., -1., -1., -1., -1., -1., -1., -1., -1., -1., -1., -1.,\n",
       "        -1., -1., -1., -1., -1., -1., -1., -1., -1., -1., -1., -1., -1.,\n",
       "        -1., -1., -1., -1., -1., -1., -1., -1., -1., -1., -1., -1., -1.,\n",
       "        -1., -1., -1., -1., -1., -1., -1., -1., -1., -1., -1., -1., -1.,\n",
       "        -1., -1., -1., -1., -1., -1., -1., -1., -1., -1., -1., -1., -1.,\n",
       "        -1., -1., -1., -1., -1., -1., -1., -1., -1., -1., -1., -1., -1.,\n",
       "        -1., -1., -1., -1., -1., -1., -1., -1., -1., -1., -1., -1., -1.,\n",
       "        -1., -1., -1., -1., -1., -1., -1., -1., -1., -1., -1., -1., -1.,\n",
       "        -1., -1., -1., -1., -1., -1., -1., -1., -1., -1., -1., -1., -1.,\n",
       "        -1., -1., -1., -1., -1., -1., -1., -1., -1., -1., -1., -1., -1.,\n",
       "        -1., -1., -1., -1., -1., -1., -1., -1., -1., -1., -1., -1., -1.,\n",
       "        -1., -1., -1., -1., -1., -1., -1., -1., -1., -1., -1., -1., -1.,\n",
       "        -1., -1., -1., -1., -1., -1., -1., -1., -1., -1., -1., -1., -1.,\n",
       "        -1., -1., -1., -1., -1., -1., -1., -1., -1., -1., -1., -1., -1.,\n",
       "        -1., -1., -1., -1., -1., -1., -1., -1., -1., -1., -1., -1., -1.,\n",
       "        -1., -1., -1., -1., -1., -1., -1., -1., -1., -1., -1., -1.], requires_grad=True)"
      ]
     },
     "execution_count": 41,
     "metadata": {},
     "output_type": "execute_result"
    }
   ],
   "source": [
    "@qml.qnode(dev2)\n",
    "def qn_sm():\n",
    "    circuit()\n",
    "    return qml.sample(qml.PauliX(wires=0))\n",
    "\n",
    "samples =qn_sm()\n",
    "samples"
   ]
  },
  {
   "cell_type": "code",
   "execution_count": 42,
   "metadata": {},
   "outputs": [
    {
     "data": {
      "text/plain": [
       "tensor(0., requires_grad=True)"
      ]
     },
     "execution_count": 42,
     "metadata": {},
     "output_type": "execute_result"
    }
   ],
   "source": [
    "@qml.qnode(dev)\n",
    "def qn_expz():\n",
    "    circuit()\n",
    "    return qml.expval(qml.PauliZ(wires=0))\n",
    "\n",
    "qn_expz()"
   ]
  },
  {
   "cell_type": "code",
   "execution_count": 43,
   "metadata": {},
   "outputs": [
    {
     "data": {
      "text/plain": [
       "tensor(-0.026, requires_grad=True)"
      ]
     },
     "execution_count": 43,
     "metadata": {},
     "output_type": "execute_result"
    }
   ],
   "source": [
    "@qml.qnode(dev2)\n",
    "def qn_expz():\n",
    "    circuit()\n",
    "    return qml.expval(qml.PauliZ(wires=0))\n",
    "\n",
    "qn_expz()"
   ]
  },
  {
   "cell_type": "code",
   "execution_count": 45,
   "metadata": {},
   "outputs": [
    {
     "data": {
      "text/plain": [
       "tensor(-1., requires_grad=True)"
      ]
     },
     "execution_count": 45,
     "metadata": {},
     "output_type": "execute_result"
    }
   ],
   "source": [
    "@qml.qnode(dev2)\n",
    "def qn_expx():\n",
    "    circuit()\n",
    "    return qml.expval(qml.PauliX(wires=0))\n",
    "\n",
    "qn_expx()"
   ]
  },
  {
   "cell_type": "code",
   "execution_count": 47,
   "metadata": {},
   "outputs": [
    {
     "data": {
      "text/plain": [
       "tensor([0.70710678+0.j, 0.        +0.j, 0.        +0.j, 0.70710678+0.j], requires_grad=True)"
      ]
     },
     "execution_count": 47,
     "metadata": {},
     "output_type": "execute_result"
    }
   ],
   "source": [
    "def circuit2():\n",
    "    \n",
    "    qml.Hadamard(0)\n",
    "    qml.CNOT([0,1])\n",
    "    \n",
    "dev3 = qml.device(\"default.qubit\", wires=2)\n",
    "@qml.qnode(dev3)\n",
    "def qn2():\n",
    "    circuit2()\n",
    "    return qml.state()\n",
    "\n",
    "\n",
    "qn2()   "
   ]
  },
  {
   "cell_type": "code",
   "execution_count": 48,
   "metadata": {},
   "outputs": [
    {
     "data": {
      "text/plain": [
       "'0: ──H─╭●─┤  State\\n1: ────╰X─┤  State'"
      ]
     },
     "execution_count": 48,
     "metadata": {},
     "output_type": "execute_result"
    }
   ],
   "source": [
    "qml.draw(qn2)()"
   ]
  },
  {
   "cell_type": "code",
   "execution_count": 51,
   "metadata": {},
   "outputs": [
    {
     "data": {
      "text/plain": [
       "tensor(0., requires_grad=True)"
      ]
     },
     "execution_count": 51,
     "metadata": {},
     "output_type": "execute_result"
    }
   ],
   "source": [
    "@qml.qnode(dev3)\n",
    "def qn2_exp():\n",
    "    circuit2()\n",
    "    return qml.expval(qml.PauliZ(wires=0) @ qml.PauliX(wires=1))\n",
    "qn2_exp()"
   ]
  },
  {
   "cell_type": "code",
   "execution_count": 52,
   "metadata": {},
   "outputs": [
    {
     "data": {
      "text/plain": [
       "tensor([0.70710678+0.j        , 0.        +0.j        ,\n",
       "        0.        +0.j        , 0.        -0.70710678j], requires_grad=True)"
      ]
     },
     "execution_count": 52,
     "metadata": {},
     "output_type": "execute_result"
    }
   ],
   "source": [
    "def circuit3(theta):\n",
    "    qml.RX(theta,0)\n",
    "    qml.CNOT([0,1])\n",
    "    \n",
    "@qml.qnode(dev3)\n",
    "def qn3(theta):\n",
    "    circuit3(theta)\n",
    "    return qml.state()\n",
    "\n",
    "qn3(np.pi/2)\n",
    "    "
   ]
  },
  {
   "cell_type": "code",
   "execution_count": 53,
   "metadata": {},
   "outputs": [
    {
     "data": {
      "text/plain": [
       "'0: ──RX(1.57)─╭●─┤  State\\n1: ───────────╰X─┤  State'"
      ]
     },
     "execution_count": 53,
     "metadata": {},
     "output_type": "execute_result"
    }
   ],
   "source": [
    "qml.draw(qn3)(np.pi/2)"
   ]
  },
  {
   "cell_type": "code",
   "execution_count": null,
   "metadata": {},
   "outputs": [],
   "source": []
  }
 ],
 "metadata": {
  "kernelspec": {
   "display_name": "qgai",
   "language": "python",
   "name": "python3"
  },
  "language_info": {
   "codemirror_mode": {
    "name": "ipython",
    "version": 3
   },
   "file_extension": ".py",
   "mimetype": "text/x-python",
   "name": "python",
   "nbconvert_exporter": "python",
   "pygments_lexer": "ipython3",
   "version": "3.10.14"
  }
 },
 "nbformat": 4,
 "nbformat_minor": 2
}
